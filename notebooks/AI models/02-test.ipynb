{
 "cells": [
  {
   "cell_type": "code",
   "execution_count": 1,
   "id": "950b7211",
   "metadata": {},
   "outputs": [
    {
     "ename": "NameError",
     "evalue": "name 'to' is not defined",
     "output_type": "error",
     "traceback": [
      "\u001b[31m---------------------------------------------------------------------------\u001b[39m",
      "\u001b[31mNameError\u001b[39m                                 Traceback (most recent call last)",
      "\u001b[36mCell\u001b[39m\u001b[36m \u001b[39m\u001b[32mIn[1]\u001b[39m\u001b[32m, line 6\u001b[39m\n\u001b[32m      3\u001b[39m \u001b[38;5;28;01mfrom\u001b[39;00m\u001b[38;5;250m \u001b[39m\u001b[34;01msklearn\u001b[39;00m\u001b[34;01m.\u001b[39;00m\u001b[34;01mmetrics\u001b[39;00m\u001b[38;5;250m \u001b[39m\u001b[38;5;28;01mimport\u001b[39;00m mean_squared_error\n\u001b[32m      5\u001b[39m \u001b[38;5;66;03m# 1. Validation set from fastai TabularPandas\u001b[39;00m\n\u001b[32m----> \u001b[39m\u001b[32m6\u001b[39m valid_idx = \u001b[43mto\u001b[49m.splits[\u001b[32m1\u001b[39m]\n\u001b[32m      7\u001b[39m df_valid = to.items.iloc[valid_idx].copy()\n\u001b[32m      8\u001b[39m X_valid = df_valid[dls.x_names]\n",
      "\u001b[31mNameError\u001b[39m: name 'to' is not defined"
     ]
    }
   ],
   "source": [
    "import numpy as np\n",
    "import pandas as pd\n",
    "from sklearn.metrics import mean_squared_error\n",
    "\n",
    "# 1. Validation set from fastai TabularPandas\n",
    "valid_idx = to.splits[1]\n",
    "df_valid = to.items.iloc[valid_idx].copy()\n",
    "X_valid = df_valid[dls.x_names]\n",
    "y_valid = df_valid[\"LogSalePrice\"]\n",
    "\n",
    "# 2. Baseline RMSE\n",
    "dl = learn.dls.test_dl(X_valid)\n",
    "preds, _ = learn.get_preds(dl=dl)\n",
    "base_rmse = mean_squared_error(y_valid, preds.numpy(), squared=False)\n",
    "\n",
    "# 3. Permutation importance\n",
    "importances = []\n",
    "for col in X_valid.columns:\n",
    "    X_shuff = X_valid.copy()\n",
    "    X_shuff[col] = np.random.permutation(X_shuff[col])\n",
    "    dl_shuff = learn.dls.test_dl(X_shuff)\n",
    "    preds_shuff, _ = learn.get_preds(dl=dl_shuff)\n",
    "    rmse = mean_squared_error(y_valid, preds_shuff.numpy(), squared=False)\n",
    "    importances.append(rmse - base_rmse)\n",
    "\n",
    "feat_imp = pd.Series(importances, index=X_valid.columns).sort_values(ascending=False)\n",
    "feat_imp.plot(\n",
    "    kind=\"barh\",\n",
    "    title=\"Permutation Feature Importance (fastai tabular NN)\",\n",
    "    figsize=(8, 5),\n",
    ")"
   ]
  }
 ],
 "metadata": {
  "kernelspec": {
   "display_name": "venv",
   "language": "python",
   "name": "python3"
  },
  "language_info": {
   "codemirror_mode": {
    "name": "ipython",
    "version": 3
   },
   "file_extension": ".py",
   "mimetype": "text/x-python",
   "name": "python",
   "nbconvert_exporter": "python",
   "pygments_lexer": "ipython3",
   "version": "3.12.10"
  }
 },
 "nbformat": 4,
 "nbformat_minor": 5
}
