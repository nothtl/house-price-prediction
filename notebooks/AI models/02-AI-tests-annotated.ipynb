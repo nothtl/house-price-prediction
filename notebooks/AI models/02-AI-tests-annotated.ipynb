{
 "cells": [
  {
   "cell_type": "code",
   "execution_count": 12,
   "id": "c02d570a",
   "metadata": {},
   "outputs": [],
   "source": [
    "import pandas as pd\n",
    "from fastai.tabular.all import *\n",
    "\n",
    "# Load your already cleaned/train DataFrame (use what you had with SalePrice, Id, etc)\n",
    "df = pd.read_csv(\"../../data/train.csv\")\n",
    "\n",
    "# Optionally: use your earlier data cleaning code here to match your best results!\n",
    "\n",
    "# Set which columns are categorical and which are continuous:\n",
    "cat_names = df.select_dtypes(\"object\").columns.tolist()\n",
    "cont_names = [c for c in df.columns if c not in cat_names + [\"SalePrice\", \"Id\"]]\n",
    "\n",
    "# We'll predict the log of SalePrice\n",
    "df[\"LogSalePrice\"] = np.log1p(df[\"SalePrice\"])"
   ]
  },
  {
   "cell_type": "code",
   "execution_count": 13,
   "id": "c6519b4a",
   "metadata": {},
   "outputs": [],
   "source": [
    "cat_names = df.select_dtypes(\"object\").columns.tolist()\n",
    "cont_names = df.select_dtypes([\"float64\", \"int64\"]).columns.tolist()\n",
    "cont_names = [c for c in cont_names if c not in [\"SalePrice\", \"Id\"]]"
   ]
  },
  {
   "cell_type": "code",
   "execution_count": 22,
   "id": "c95e6e22",
   "metadata": {},
   "outputs": [
    {
     "ename": "NameError",
     "evalue": "name 'train_df' is not defined",
     "output_type": "error",
     "traceback": [
      "\u001b[31m---------------------------------------------------------------------------\u001b[39m",
      "\u001b[31mNameError\u001b[39m                                 Traceback (most recent call last)",
      "\u001b[36mCell\u001b[39m\u001b[36m \u001b[39m\u001b[32mIn[22]\u001b[39m\u001b[32m, line 3\u001b[39m\n\u001b[32m      1\u001b[39m \u001b[38;5;66;03m# Assume your train pipeline looks like this:\u001b[39;00m\n\u001b[32m      2\u001b[39m to = TabularPandas(\n\u001b[32m----> \u001b[39m\u001b[32m3\u001b[39m     \u001b[43mtrain_df\u001b[49m,  \u001b[38;5;66;03m# Your full train data with target\u001b[39;00m\n\u001b[32m      4\u001b[39m     procs=[Categorify, FillMissing, Normalize],\n\u001b[32m      5\u001b[39m     cat_names=cat_names,\n\u001b[32m      6\u001b[39m     cont_names=cont_names,\n\u001b[32m      7\u001b[39m     y_names=\u001b[33m\"\u001b[39m\u001b[33mLogSalePrice\u001b[39m\u001b[33m\"\u001b[39m,\n\u001b[32m      8\u001b[39m     splits=splits,\n\u001b[32m      9\u001b[39m )\n\u001b[32m     10\u001b[39m dls = to.dataloaders(bs=\u001b[32m64\u001b[39m)\n\u001b[32m     11\u001b[39m learn = tabular_learner(dls, ...)\n",
      "\u001b[31mNameError\u001b[39m: name 'train_df' is not defined"
     ]
    }
   ],
   "source": [
    "# Assume your train pipeline looks like this:\n",
    "to = TabularPandas(\n",
    "    train_df,  # Your full train data with target\n",
    "    procs=[Categorify, FillMissing, Normalize],\n",
    "    cat_names=cat_names,\n",
    "    cont_names=cont_names,\n",
    "    y_names=\"LogSalePrice\",\n",
    "    splits=splits,\n",
    ")\n",
    "dls = to.dataloaders(bs=64)\n",
    "learn = tabular_learner(dls, ...)\n",
    "\n",
    "# Now for test set prediction:\n",
    "test_df = pd.read_csv(\"../data/test.csv\")\n",
    "\n",
    "# 1. This is the correct way:\n",
    "test_dl = dls.test_dl(test_df)  # <-- NO TabularPandas here!\n",
    "preds, _ = learn.get_preds(dl=test_dl)\n",
    "\n",
    "# 2. Prepare for Kaggle submission\n",
    "submission = pd.DataFrame(\n",
    "    {\n",
    "        \"Id\": test_df[\"Id\"],\n",
    "        \"SalePrice\": np.expm1(\n",
    "            preds.numpy().squeeze()\n",
    "        ),  # use expm1 if you trained on log\n",
    "    }\n",
    ")\n",
    "submission.to_csv(\"submission.csv\", index=False)"
   ]
  },
  {
   "cell_type": "markdown",
   "id": "81c4630f",
   "metadata": {},
   "source": []
  }
 ],
 "metadata": {
  "kernelspec": {
   "display_name": "venv",
   "language": "python",
   "name": "python3"
  },
  "language_info": {
   "codemirror_mode": {
    "name": "ipython",
    "version": 3
   },
   "file_extension": ".py",
   "mimetype": "text/x-python",
   "name": "python",
   "nbconvert_exporter": "python",
   "pygments_lexer": "ipython3",
   "version": "3.12.10"
  }
 },
 "nbformat": 4,
 "nbformat_minor": 5
}
