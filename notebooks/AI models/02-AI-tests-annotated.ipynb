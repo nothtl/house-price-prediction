{
 "cells": [
  {
   "cell_type": "code",
   "execution_count": 24,
   "id": "a6818ee3",
   "metadata": {},
   "outputs": [
    {
     "name": "stdout",
     "output_type": "stream",
     "text": [
      "Train shape: (1460, 81)\n",
      "Test shape: (1459, 80)\n"
     ]
    }
   ],
   "source": [
    "# 1. Imports and data loading\n",
    "import pandas as pd\n",
    "from fastai.tabular.all import *\n",
    "\n",
    "# Paths - adjust if different\n",
    "PATH = Path(\"../../data\")\n",
    "train_df = pd.read_csv(PATH / \"train.csv\")\n",
    "test_df = pd.read_csv(PATH / \"test.csv\")\n",
    "print(\"Train shape:\", train_df.shape)\n",
    "print(\"Test shape:\", test_df.shape)"
   ]
  },
  {
   "cell_type": "code",
   "execution_count": 25,
   "id": "5f95a7af",
   "metadata": {},
   "outputs": [
    {
     "name": "stdout",
     "output_type": "stream",
     "text": [
      "Categorical: ['MSZoning', 'Street', 'Alley', 'LotShape', 'LandContour', 'Utilities', 'LotConfig', 'LandSlope', 'Neighborhood', 'Condition1', 'Condition2', 'BldgType', 'HouseStyle', 'RoofStyle', 'RoofMatl', 'Exterior1st', 'Exterior2nd', 'MasVnrType', 'ExterQual', 'ExterCond', 'Foundation', 'BsmtQual', 'BsmtCond', 'BsmtExposure', 'BsmtFinType1', 'BsmtFinType2', 'Heating', 'HeatingQC', 'CentralAir', 'Electrical', 'KitchenQual', 'Functional', 'FireplaceQu', 'GarageType', 'GarageFinish', 'GarageQual', 'GarageCond', 'PavedDrive', 'PoolQC', 'Fence', 'MiscFeature', 'SaleType', 'SaleCondition']\n",
      "Continuous: ['1stFlrSF', '2ndFlrSF', '3SsnPorch', 'BedroomAbvGr', 'BsmtFinSF1', 'BsmtFinSF2', 'BsmtFullBath', 'BsmtHalfBath', 'BsmtUnfSF', 'EnclosedPorch', 'Fireplaces', 'FullBath', 'GarageArea', 'GarageCars', 'GarageYrBlt', 'GrLivArea', 'HalfBath', 'KitchenAbvGr', 'LotArea', 'LotFrontage', 'LowQualFinSF', 'MSSubClass', 'MasVnrArea', 'MiscVal', 'MoSold', 'OpenPorchSF', 'OverallCond', 'OverallQual', 'PoolArea', 'ScreenPorch', 'TotRmsAbvGrd', 'TotalBsmtSF', 'WoodDeckSF', 'YearBuilt', 'YearRemodAdd', 'YrSold']\n"
     ]
    }
   ],
   "source": [
    "# 2. Preprocessing: Identify columns, combine for consistency\n",
    "# Remove target for test, but keep Id\n",
    "target = \"SalePrice\"\n",
    "train_df[\"is_train\"] = True\n",
    "test_df[\"is_train\"] = False\n",
    "test_df[target] = np.nan  # Add dummy target for test set\n",
    "\n",
    "# Combine for encoding consistency\n",
    "all_df = pd.concat([train_df, test_df], ignore_index=True)\n",
    "\n",
    "# Find categorical and continuous columns automatically\n",
    "cat_names = all_df.select_dtypes(\"object\").columns.tolist()\n",
    "cat_names = [c for c in cat_names if c not in [\"Id\", target]]\n",
    "cont_names = all_df.select_dtypes(\"number\").columns.difference([\"Id\", target]).tolist()\n",
    "\n",
    "print(\"Categorical:\", cat_names)\n",
    "print(\"Continuous:\", cont_names)"
   ]
  },
  {
   "cell_type": "code",
   "execution_count": 26,
   "id": "bb01f4a6",
   "metadata": {},
   "outputs": [],
   "source": [
    "# 3. Create splits for train/valid/test\n",
    "from sklearn.model_selection import train_test_split\n",
    "\n",
    "train_idx = all_df[all_df.is_train].index.tolist()\n",
    "test_idx = all_df[~all_df.is_train].index.tolist()\n",
    "\n",
    "# Fastai split: (train/valid, test)\n",
    "train_idxs, valid_idxs = train_test_split(train_idx, test_size=0.2, random_state=42)\n",
    "splits = (L(train_idxs), L(valid_idxs))\n",
    "\n",
    "# For Fastai, remove helper column\n",
    "all_df = all_df.drop(\"is_train\", axis=1)"
   ]
  },
  {
   "cell_type": "code",
   "execution_count": 27,
   "id": "b7184158",
   "metadata": {},
   "outputs": [
    {
     "name": "stderr",
     "output_type": "stream",
     "text": [
      "d:\\githib repo clones\\house-price-prediction\\venv\\Lib\\site-packages\\fastai\\tabular\\core.py:314: FutureWarning: A value is trying to be set on a copy of a DataFrame or Series through chained assignment using an inplace method.\n",
      "The behavior will change in pandas 3.0. This inplace method will never work because the intermediate object on which we are setting values always behaves as a copy.\n",
      "\n",
      "For example, when doing 'df[col].method(value, inplace=True)', try using 'df.method({col: value}, inplace=True)' or df[col] = df[col].method(value) instead, to perform the operation inplace on the original object.\n",
      "\n",
      "\n",
      "  to[n].fillna(self.na_dict[n], inplace=True)\n",
      "d:\\githib repo clones\\house-price-prediction\\venv\\Lib\\site-packages\\fastai\\tabular\\core.py:314: FutureWarning: A value is trying to be set on a copy of a DataFrame or Series through chained assignment using an inplace method.\n",
      "The behavior will change in pandas 3.0. This inplace method will never work because the intermediate object on which we are setting values always behaves as a copy.\n",
      "\n",
      "For example, when doing 'df[col].method(value, inplace=True)', try using 'df.method({col: value}, inplace=True)' or df[col] = df[col].method(value) instead, to perform the operation inplace on the original object.\n",
      "\n",
      "\n",
      "  to[n].fillna(self.na_dict[n], inplace=True)\n",
      "d:\\githib repo clones\\house-price-prediction\\venv\\Lib\\site-packages\\fastai\\tabular\\core.py:314: FutureWarning: A value is trying to be set on a copy of a DataFrame or Series through chained assignment using an inplace method.\n",
      "The behavior will change in pandas 3.0. This inplace method will never work because the intermediate object on which we are setting values always behaves as a copy.\n",
      "\n",
      "For example, when doing 'df[col].method(value, inplace=True)', try using 'df.method({col: value}, inplace=True)' or df[col] = df[col].method(value) instead, to perform the operation inplace on the original object.\n",
      "\n",
      "\n",
      "  to[n].fillna(self.na_dict[n], inplace=True)\n"
     ]
    }
   ],
   "source": [
    "# 4. Setup TabularPandas object\n",
    "to = TabularPandas(\n",
    "    all_df,\n",
    "    procs=[Categorify, FillMissing, Normalize],\n",
    "    cat_names=cat_names,\n",
    "    cont_names=cont_names,\n",
    "    y_names=target,\n",
    "    splits=splits,\n",
    ")"
   ]
  },
  {
   "cell_type": "code",
   "execution_count": 28,
   "id": "7b5a8885",
   "metadata": {},
   "outputs": [
    {
     "data": {
      "text/html": [
       "\n",
       "<style>\n",
       "    /* Turns off some styling */\n",
       "    progress {\n",
       "        /* gets rid of default border in Firefox and Opera. */\n",
       "        border: none;\n",
       "        /* Needs to be in here for Safari polyfill so background images work as expected. */\n",
       "        background-size: auto;\n",
       "    }\n",
       "    progress:not([value]), progress:not([value])::-webkit-progress-bar {\n",
       "        background: repeating-linear-gradient(45deg, #7e7e7e, #7e7e7e 10px, #5c5c5c 10px, #5c5c5c 20px);\n",
       "    }\n",
       "    .progress-bar-interrupted, .progress-bar-interrupted::-webkit-progress-bar {\n",
       "        background: #F44336;\n",
       "    }\n",
       "</style>\n"
      ],
      "text/plain": [
       "<IPython.core.display.HTML object>"
      ]
     },
     "metadata": {},
     "output_type": "display_data"
    },
    {
     "data": {
      "text/html": [
       "<table border=\"1\" class=\"dataframe\">\n",
       "  <thead>\n",
       "    <tr style=\"text-align: left;\">\n",
       "      <th>epoch</th>\n",
       "      <th>train_loss</th>\n",
       "      <th>valid_loss</th>\n",
       "      <th>_rmse</th>\n",
       "      <th>time</th>\n",
       "    </tr>\n",
       "  </thead>\n",
       "  <tbody>\n",
       "    <tr>\n",
       "      <td>0</td>\n",
       "      <td>37292347392.000000</td>\n",
       "      <td>39653818368.000000</td>\n",
       "      <td>199132.656250</td>\n",
       "      <td>00:00</td>\n",
       "    </tr>\n",
       "    <tr>\n",
       "      <td>1</td>\n",
       "      <td>38236938240.000000</td>\n",
       "      <td>39653371904.000000</td>\n",
       "      <td>199131.546875</td>\n",
       "      <td>00:00</td>\n",
       "    </tr>\n",
       "    <tr>\n",
       "      <td>2</td>\n",
       "      <td>37949476864.000000</td>\n",
       "      <td>39652950016.000000</td>\n",
       "      <td>199130.484375</td>\n",
       "      <td>00:00</td>\n",
       "    </tr>\n",
       "    <tr>\n",
       "      <td>3</td>\n",
       "      <td>38626471936.000000</td>\n",
       "      <td>39652921344.000000</td>\n",
       "      <td>199130.421875</td>\n",
       "      <td>00:00</td>\n",
       "    </tr>\n",
       "    <tr>\n",
       "      <td>4</td>\n",
       "      <td>38821421056.000000</td>\n",
       "      <td>39652786176.000000</td>\n",
       "      <td>199130.078125</td>\n",
       "      <td>00:00</td>\n",
       "    </tr>\n",
       "  </tbody>\n",
       "</table>"
      ],
      "text/plain": [
       "<IPython.core.display.HTML object>"
      ]
     },
     "metadata": {},
     "output_type": "display_data"
    }
   ],
   "source": [
    "# 5. Create DataLoaders and model\n",
    "dls = to.dataloaders(bs=64)\n",
    "learn = tabular_learner(dls, metrics=rmse)\n",
    "learn.fit_one_cycle(5)"
   ]
  },
  {
   "cell_type": "code",
   "execution_count": 29,
   "id": "2e941179",
   "metadata": {},
   "outputs": [
    {
     "ename": "AssertionError",
     "evalue": "nan values in `BsmtFinSF1` but not in setup training set",
     "output_type": "error",
     "traceback": [
      "\u001b[31m---------------------------------------------------------------------------\u001b[39m",
      "\u001b[31mAssertionError\u001b[39m                            Traceback (most recent call last)",
      "\u001b[36mCell\u001b[39m\u001b[36m \u001b[39m\u001b[32mIn[29]\u001b[39m\u001b[32m, line 3\u001b[39m\n\u001b[32m      1\u001b[39m \u001b[38;5;66;03m# 6. Make test predictions & format submission\u001b[39;00m\n\u001b[32m      2\u001b[39m \u001b[38;5;66;03m# Get test set dataloader\u001b[39;00m\n\u001b[32m----> \u001b[39m\u001b[32m3\u001b[39m test_dl = \u001b[43mdls\u001b[49m\u001b[43m.\u001b[49m\u001b[43mtest_dl\u001b[49m\u001b[43m(\u001b[49m\u001b[43mall_df\u001b[49m\u001b[43m.\u001b[49m\u001b[43mloc\u001b[49m\u001b[43m[\u001b[49m\u001b[43mtest_idx\u001b[49m\u001b[43m]\u001b[49m\u001b[43m)\u001b[49m\n\u001b[32m      4\u001b[39m test_preds, _ = learn.get_preds(dl=test_dl)\n\u001b[32m      6\u001b[39m \u001b[38;5;66;03m# Build submission DataFrame\u001b[39;00m\n",
      "\u001b[36mFile \u001b[39m\u001b[32md:\\githib repo clones\\house-price-prediction\\venv\\Lib\\site-packages\\fastai\\tabular\\data.py:56\u001b[39m, in \u001b[36mTabularDataLoaders.test_dl\u001b[39m\u001b[34m(self, test_items, rm_type_tfms, process, inplace, **kwargs)\u001b[39m\n\u001b[32m     54\u001b[39m \u001b[33m\"\u001b[39m\u001b[33mCreate test `TabDataLoader` from `test_items` using validation `procs`\u001b[39m\u001b[33m\"\u001b[39m\n\u001b[32m     55\u001b[39m to = \u001b[38;5;28mself\u001b[39m.train_ds.new(test_items, inplace=inplace)\n\u001b[32m---> \u001b[39m\u001b[32m56\u001b[39m \u001b[38;5;28;01mif\u001b[39;00m process: \u001b[43mto\u001b[49m\u001b[43m.\u001b[49m\u001b[43mprocess\u001b[49m\u001b[43m(\u001b[49m\u001b[43m)\u001b[49m\n\u001b[32m     57\u001b[39m \u001b[38;5;28;01mreturn\u001b[39;00m \u001b[38;5;28mself\u001b[39m.valid.new(to, **kwargs)\n",
      "\u001b[36mFile \u001b[39m\u001b[32md:\\githib repo clones\\house-price-prediction\\venv\\Lib\\site-packages\\fastai\\tabular\\core.py:182\u001b[39m, in \u001b[36mTabular.process\u001b[39m\u001b[34m(self)\u001b[39m\n\u001b[32m--> \u001b[39m\u001b[32m182\u001b[39m \u001b[38;5;28;01mdef\u001b[39;00m\u001b[38;5;250m \u001b[39m\u001b[34mprocess\u001b[39m(\u001b[38;5;28mself\u001b[39m): \u001b[38;5;28;43mself\u001b[39;49m\u001b[43m.\u001b[49m\u001b[43mprocs\u001b[49m\u001b[43m(\u001b[49m\u001b[38;5;28;43mself\u001b[39;49m\u001b[43m)\u001b[49m\n",
      "\u001b[36mFile \u001b[39m\u001b[32md:\\githib repo clones\\house-price-prediction\\venv\\Lib\\site-packages\\fasttransform\\transform.py:248\u001b[39m, in \u001b[36mPipeline.__call__\u001b[39m\u001b[34m(self, o)\u001b[39m\n\u001b[32m--> \u001b[39m\u001b[32m248\u001b[39m \u001b[38;5;28;01mdef\u001b[39;00m\u001b[38;5;250m \u001b[39m\u001b[34m__call__\u001b[39m(\u001b[38;5;28mself\u001b[39m, o): \u001b[38;5;28;01mreturn\u001b[39;00m \u001b[43mcompose_tfms\u001b[49m\u001b[43m(\u001b[49m\u001b[43mo\u001b[49m\u001b[43m,\u001b[49m\u001b[43m \u001b[49m\u001b[43mtfms\u001b[49m\u001b[43m=\u001b[49m\u001b[38;5;28;43mself\u001b[39;49m\u001b[43m.\u001b[49m\u001b[43mfs\u001b[49m\u001b[43m,\u001b[49m\u001b[43m \u001b[49m\u001b[43msplit_idx\u001b[49m\u001b[43m=\u001b[49m\u001b[38;5;28;43mself\u001b[39;49m\u001b[43m.\u001b[49m\u001b[43msplit_idx\u001b[49m\u001b[43m)\u001b[49m\n",
      "\u001b[36mFile \u001b[39m\u001b[32md:\\githib repo clones\\house-price-prediction\\venv\\Lib\\site-packages\\fasttransform\\transform.py:197\u001b[39m, in \u001b[36mcompose_tfms\u001b[39m\u001b[34m(x, tfms, is_enc, reverse, **kwargs)\u001b[39m\n\u001b[32m    195\u001b[39m \u001b[38;5;28;01mfor\u001b[39;00m f \u001b[38;5;129;01min\u001b[39;00m tfms:\n\u001b[32m    196\u001b[39m     \u001b[38;5;28;01mif\u001b[39;00m \u001b[38;5;129;01mnot\u001b[39;00m is_enc: f = f.decode\n\u001b[32m--> \u001b[39m\u001b[32m197\u001b[39m     x = \u001b[43mf\u001b[49m\u001b[43m(\u001b[49m\u001b[43mx\u001b[49m\u001b[43m,\u001b[49m\u001b[43m \u001b[49m\u001b[43m*\u001b[49m\u001b[43m*\u001b[49m\u001b[43mkwargs\u001b[49m\u001b[43m)\u001b[49m\n\u001b[32m    198\u001b[39m \u001b[38;5;28;01mreturn\u001b[39;00m x\n",
      "\u001b[36mFile \u001b[39m\u001b[32md:\\githib repo clones\\house-price-prediction\\venv\\Lib\\site-packages\\fasttransform\\transform.py:114\u001b[39m, in \u001b[36mTransform.__call__\u001b[39m\u001b[34m(self, split_idx, *args, **kwargs)\u001b[39m\n\u001b[32m--> \u001b[39m\u001b[32m114\u001b[39m \u001b[38;5;28;01mdef\u001b[39;00m\u001b[38;5;250m \u001b[39m\u001b[34m__call__\u001b[39m(\u001b[38;5;28mself\u001b[39m,*args,split_idx=\u001b[38;5;28;01mNone\u001b[39;00m, **kwargs): \u001b[38;5;28;01mreturn\u001b[39;00m \u001b[38;5;28;43mself\u001b[39;49m\u001b[43m.\u001b[49m\u001b[43m_call\u001b[49m\u001b[43m(\u001b[49m\u001b[33;43m'\u001b[39;49m\u001b[33;43mencodes\u001b[39;49m\u001b[33;43m'\u001b[39;49m\u001b[43m,\u001b[49m\u001b[43m \u001b[49m\u001b[43m*\u001b[49m\u001b[43margs\u001b[49m\u001b[43m,\u001b[49m\u001b[43m \u001b[49m\u001b[43msplit_idx\u001b[49m\u001b[43m=\u001b[49m\u001b[43msplit_idx\u001b[49m\u001b[43m,\u001b[49m\u001b[43m \u001b[49m\u001b[43m*\u001b[49m\u001b[43m*\u001b[49m\u001b[43mkwargs\u001b[49m\u001b[43m)\u001b[49m\n",
      "\u001b[36mFile \u001b[39m\u001b[32md:\\githib repo clones\\house-price-prediction\\venv\\Lib\\site-packages\\fasttransform\\transform.py:144\u001b[39m, in \u001b[36mInplaceTransform._call\u001b[39m\u001b[34m(self, fn, split_idx, *args, **kwargs)\u001b[39m\n\u001b[32m    143\u001b[39m \u001b[38;5;28;01mdef\u001b[39;00m\u001b[38;5;250m \u001b[39m\u001b[34m_call\u001b[39m(\u001b[38;5;28mself\u001b[39m, fn, *args, split_idx=\u001b[38;5;28;01mNone\u001b[39;00m, **kwargs):\n\u001b[32m--> \u001b[39m\u001b[32m144\u001b[39m     \u001b[38;5;28;43msuper\u001b[39;49m\u001b[43m(\u001b[49m\u001b[43m)\u001b[49m\u001b[43m.\u001b[49m\u001b[43m_call\u001b[49m\u001b[43m(\u001b[49m\u001b[43mfn\u001b[49m\u001b[43m,\u001b[49m\u001b[43m*\u001b[49m\u001b[43margs\u001b[49m\u001b[43m,\u001b[49m\u001b[43m \u001b[49m\u001b[43msplit_idx\u001b[49m\u001b[43m=\u001b[49m\u001b[43msplit_idx\u001b[49m\u001b[43m,\u001b[49m\u001b[43m \u001b[49m\u001b[43m*\u001b[49m\u001b[43m*\u001b[49m\u001b[43mkwargs\u001b[49m\u001b[43m)\u001b[49m\n\u001b[32m    145\u001b[39m     \u001b[38;5;28;01mreturn\u001b[39;00m args[\u001b[32m0\u001b[39m]\n",
      "\u001b[36mFile \u001b[39m\u001b[32md:\\githib repo clones\\house-price-prediction\\venv\\Lib\\site-packages\\fasttransform\\transform.py:125\u001b[39m, in \u001b[36mTransform._call\u001b[39m\u001b[34m(self, nm, split_idx, *args, **kwargs)\u001b[39m\n\u001b[32m    123\u001b[39m \u001b[38;5;28;01mif\u001b[39;00m split_idx!=\u001b[38;5;28mself\u001b[39m.split_idx \u001b[38;5;129;01mand\u001b[39;00m \u001b[38;5;28mself\u001b[39m.split_idx \u001b[38;5;129;01mis\u001b[39;00m \u001b[38;5;129;01mnot\u001b[39;00m \u001b[38;5;28;01mNone\u001b[39;00m: \u001b[38;5;28;01mreturn\u001b[39;00m args[\u001b[32m0\u001b[39m]\n\u001b[32m    124\u001b[39m \u001b[38;5;28;01mif\u001b[39;00m \u001b[38;5;129;01mnot\u001b[39;00m \u001b[38;5;28mhasattr\u001b[39m(\u001b[38;5;28mself\u001b[39m, nm): \u001b[38;5;28;01mreturn\u001b[39;00m args[\u001b[32m0\u001b[39m]\n\u001b[32m--> \u001b[39m\u001b[32m125\u001b[39m \u001b[38;5;28;01mreturn\u001b[39;00m \u001b[38;5;28;43mself\u001b[39;49m\u001b[43m.\u001b[49m\u001b[43m_do_call\u001b[49m\u001b[43m(\u001b[49m\u001b[43mnm\u001b[49m\u001b[43m,\u001b[49m\u001b[43m \u001b[49m\u001b[43m*\u001b[49m\u001b[43margs\u001b[49m\u001b[43m,\u001b[49m\u001b[43m \u001b[49m\u001b[43m*\u001b[49m\u001b[43m*\u001b[49m\u001b[43mkwargs\u001b[49m\u001b[43m)\u001b[49m\n",
      "\u001b[36mFile \u001b[39m\u001b[32md:\\githib repo clones\\house-price-prediction\\venv\\Lib\\site-packages\\fasttransform\\transform.py:136\u001b[39m, in \u001b[36mTransform._do_call\u001b[39m\u001b[34m(self, nm, *args, **kwargs)\u001b[39m\n\u001b[32m    134\u001b[39m \u001b[38;5;28;01mtry\u001b[39;00m: method, ret_type = f._resolve_method_with_cache(f_args)\n\u001b[32m    135\u001b[39m \u001b[38;5;28;01mexcept\u001b[39;00m NotFoundLookupError: \u001b[38;5;28;01mreturn\u001b[39;00m x\n\u001b[32m--> \u001b[39m\u001b[32m136\u001b[39m \u001b[38;5;28;01mreturn\u001b[39;00m retain_type(\u001b[43mmethod\u001b[49m\u001b[43m(\u001b[49m\u001b[43m*\u001b[49m\u001b[43mf_args\u001b[49m\u001b[43m,\u001b[49m\u001b[43m*\u001b[49m\u001b[43m*\u001b[49m\u001b[43mkwargs\u001b[49m\u001b[43m)\u001b[49m, x, ret_type)\n",
      "\u001b[36mFile \u001b[39m\u001b[32md:\\githib repo clones\\house-price-prediction\\venv\\Lib\\site-packages\\fastai\\tabular\\core.py:312\u001b[39m, in \u001b[36mFillMissing.encodes\u001b[39m\u001b[34m(self, to)\u001b[39m\n\u001b[32m    310\u001b[39m missing = pd.isnull(to.conts)\n\u001b[32m    311\u001b[39m \u001b[38;5;28;01mfor\u001b[39;00m n \u001b[38;5;129;01min\u001b[39;00m missing.any()[missing.any()].keys():\n\u001b[32m--> \u001b[39m\u001b[32m312\u001b[39m     \u001b[38;5;28;01massert\u001b[39;00m n \u001b[38;5;129;01min\u001b[39;00m \u001b[38;5;28mself\u001b[39m.na_dict, \u001b[33mf\u001b[39m\u001b[33m\"\u001b[39m\u001b[33mnan values in `\u001b[39m\u001b[38;5;132;01m{\u001b[39;00mn\u001b[38;5;132;01m}\u001b[39;00m\u001b[33m` but not in setup training set\u001b[39m\u001b[33m\"\u001b[39m\n\u001b[32m    313\u001b[39m \u001b[38;5;28;01mfor\u001b[39;00m n \u001b[38;5;129;01min\u001b[39;00m \u001b[38;5;28mself\u001b[39m.na_dict.keys():\n\u001b[32m    314\u001b[39m     to[n].fillna(\u001b[38;5;28mself\u001b[39m.na_dict[n], inplace=\u001b[38;5;28;01mTrue\u001b[39;00m)\n",
      "\u001b[31mAssertionError\u001b[39m: nan values in `BsmtFinSF1` but not in setup training set"
     ]
    }
   ],
   "source": [
    "# 6. Make test predictions & format submission\n",
    "# Get test set dataloader\n",
    "test_dl = dls.test_dl(all_df.loc[test_idx])\n",
    "test_preds, _ = learn.get_preds(dl=test_dl)\n",
    "\n",
    "# Build submission DataFrame\n",
    "submission = pd.DataFrame(\n",
    "    {\"Id\": all_df.loc[test_idx, \"Id\"].values, \"SalePrice\": test_preds.numpy().squeeze()}\n",
    ")\n",
    "\n",
    "# Save to CSV\n",
    "submission.to_csv(\"submission.csv\", index=False)\n",
    "print(\"Submission saved! Shape:\", submission.shape)"
   ]
  },
  {
   "cell_type": "code",
   "execution_count": null,
   "id": "a69d060c",
   "metadata": {},
   "outputs": [],
   "source": [
    "# 7. Troubleshooting cell: Check for shape and ID mismatches\n",
    "print(\"Test predictions shape:\", test_preds.shape)\n",
    "print(\"Test index shape:\", len(test_idx))\n",
    "print(\"Submission shape:\", submission.shape)\n",
    "print(\"First few IDs:\", submission[\"Id\"].head())"
   ]
  },
  {
   "cell_type": "code",
   "execution_count": null,
   "id": "b6f8326a",
   "metadata": {},
   "outputs": [],
   "source": []
  }
 ],
 "metadata": {
  "kernelspec": {
   "display_name": "venv",
   "language": "python",
   "name": "python3"
  },
  "language_info": {
   "codemirror_mode": {
    "name": "ipython",
    "version": 3
   },
   "file_extension": ".py",
   "mimetype": "text/x-python",
   "name": "python",
   "nbconvert_exporter": "python",
   "pygments_lexer": "ipython3",
   "version": "3.12.10"
  }
 },
 "nbformat": 4,
 "nbformat_minor": 5
}
