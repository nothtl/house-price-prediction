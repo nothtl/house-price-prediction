{
  "cells": [
    {
      "cell_type": "code",
      "execution_count": 24,
      "id": "a6818ee3",
      "metadata": {},
      "outputs": [
        {
          "name": "stdout",
          "output_type": "stream",
          "text": [
            "Train shape: (1460, 81)\n",
            "Test shape: (1459, 80)\n"
          ]
        }
      ],
      "source": [
        "# 1. Imports and data loading\n",
        "import pandas as pd\n",
        "from fastai.tabular.all import *\n",
        "\n",
        "# Paths - adjust if different\n",
        "PATH = Path(\"../../data\")\n",
        "train_df = pd.read_csv(PATH / \"train.csv\")\n",
        "test_df = pd.read_csv(PATH / \"test.csv\")\n",
        "print(\"Train shape:\", train_df.shape)\n",
        "print(\"Test shape:\", test_df.shape)"
      ]
    },
    {
      "cell_type": "code",
      "execution_count": 25,
      "id": "5f95a7af",
      "metadata": {},
      "outputs": [
        {
          "name": "stdout",
          "output_type": "stream",
          "text": [
            "Categorical: ['MSZoning', 'Street', 'Alley', 'LotShape', 'LandContour', 'Utilities', 'LotConfig', 'LandSlope', 'Neighborhood', 'Condition1', 'Condition2', 'BldgType', 'HouseStyle', 'RoofStyle', 'RoofMatl', 'Exterior1st', 'Exterior2nd', 'MasVnrType', 'ExterQual', 'ExterCond', 'Foundation', 'BsmtQual', 'BsmtCond', 'BsmtExposure', 'BsmtFinType1', 'BsmtFinType2', 'Heating', 'HeatingQC', 'CentralAir', 'Electrical', 'KitchenQual', 'Functional', 'FireplaceQu', 'GarageType', 'GarageFinish', 'GarageQual', 'GarageCond', 'PavedDrive', 'PoolQC', 'Fence', 'MiscFeature', 'SaleType', 'SaleCondition']\n",
            "Continuous: ['1stFlrSF', '2ndFlrSF', '3SsnPorch', 'BedroomAbvGr', 'BsmtFinSF1', 'BsmtFinSF2', 'BsmtFullBath', 'BsmtHalfBath', 'BsmtUnfSF', 'EnclosedPorch', 'Fireplaces', 'FullBath', 'GarageArea', 'GarageCars', 'GarageYrBlt', 'GrLivArea', 'HalfBath', 'KitchenAbvGr', 'LotArea', 'LotFrontage', 'LowQualFinSF', 'MSSubClass', 'MasVnrArea', 'MiscVal', 'MoSold', 'OpenPorchSF', 'OverallCond', 'OverallQual', 'PoolArea', 'ScreenPorch', 'TotRmsAbvGrd', 'TotalBsmtSF', 'WoodDeckSF', 'YearBuilt', 'YearRemodAdd', 'YrSold']\n"
          ]
        }
      ],
      "source": [
        "# 2. Preprocessing: Identify columns, combine for consistency\n",
        "# Remove target for test, but keep Id\n",
        "target = \"SalePrice\"\n",
        "train_df[\"is_train\"] = True\n",
        "test_df[\"is_train\"] = False\n",
        "test_df[target] = np.nan  # Add dummy target for test set\n",
        "\n",
        "# Combine for encoding consistency\n",
        "all_df = pd.concat([train_df, test_df], ignore_index=True)\n",
        "\n",
        "# Find categorical and continuous columns automatically\n",
        "cat_names = all_df.select_dtypes(\"object\").columns.tolist()\n",
        "cat_names = [c for c in cat_names if c not in [\"Id\", target]]\n",
        "cont_names = all_df.select_dtypes(\"number\").columns.difference([\"Id\", target]).tolist()\n",
        "\n",
        "print(\"Categorical:\", cat_names)\n",
        "print(\"Continuous:\", cont_names)"
      ]
    },
    {
      "cell_type": "code",
      "execution_count": 26,
      "id": "bb01f4a6",
      "metadata": {},
      "outputs": [],
      "source": [
        "# 3. Create splits for train/valid/test\n",
        "from sklearn.model_selection import train_test_split\n",
        "\n",
        "train_idx = all_df[all_df.is_train].index.tolist()\n",
        "test_idx = all_df[~all_df.is_train].index.tolist()\n",
        "\n",
        "# Fastai split: (train/valid, test)\n",
        "train_idxs, valid_idxs = train_test_split(train_idx, test_size=0.2, random_state=42)\n",
        "splits = (L(train_idxs), L(valid_idxs))\n",
        "\n",
        "# For Fastai, remove helper column\n",
        "all_df = all_df.drop(\"is_train\", axis=1)"
      ]
    },
    {
      "cell_type": "code",
      "execution_count": 27,
      "id": "b7184158",
      "metadata": {},
      "outputs": [
        {
          "name": "stderr",
          "output_type": "stream",
          "text": [
            "d:\\githib repo clones\\house-price-prediction\\venv\\Lib\\site-packages\\fastai\\tabular\\core.py:314: FutureWarning: A value is trying to be set on a copy of a DataFrame or Series through chained assignment using an inplace method.\n",
            "The behavior will change in pandas 3.0. This inplace method will never work because the intermediate object on which we are setting values always behaves as a copy.\n",
            "\n",
            "For example, when doing 'df[col].method(value, inplace=True)', try using 'df.method({col: value}, inplace=True)' or df[col] = df[col].method(value) instead, to perform the operation inplace on the original object.\n",
            "\n",
            "\n",
            "  to[n].fillna(self.na_dict[n], inplace=True)\n",
            "d:\\githib repo clones\\house-price-prediction\\venv\\Lib\\site-packages\\fastai\\tabular\\core.py:314: FutureWarning: A value is trying to be set on a copy of a DataFrame or Series through chained assignment using an inplace method.\n",
            "The behavior will change in pandas 3.0. This inplace method will never work because the intermediate object on which we are setting values always behaves as a copy.\n",
            "\n",
            "For example, when doing 'df[col].method(value, inplace=True)', try using 'df.method({col: value}, inplace=True)' or df[col] = df[col].method(value) instead, to perform the operation inplace on the original object.\n",
            "\n",
            "\n",
            "  to[n].fillna(self.na_dict[n], inplace=True)\n",
            "d:\\githib repo clones\\house-price-prediction\\venv\\Lib\\site-packages\\fastai\\tabular\\core.py:314: FutureWarning: A value is trying to be set on a copy of a DataFrame or Series through chained assignment using an inplace method.\n",
            "The behavior will change in pandas 3.0. This inplace method will never work because the intermediate object on which we are setting values always behaves as a copy.\n",
            "\n",
            "For example, when doing 'df[col].method(value, inplace=True)', try using 'df.method({col: value}, inplace=True)' or df[col] = df[col].method(value) instead, to perform the operation inplace on the original object.\n",
            "\n",
            "\n",
            "  to[n].fillna(self.na_dict[n], inplace=True)\n"
          ]
        }
      ],
      "source": [
        "# 4. Setup TabularPandas object\n",
        "to = TabularPandas(\n",
        "    all_df,\n",
        "    procs=[Categorify, FillMissing, Normalize],\n",
        "    cat_names=cat_names,\n",
        "    cont_names=cont_names,\n",
        "    y_names=target,\n",
        "    splits=splits,\n",
        ")"
      ]
    },
    {
      "cell_type": "code",
      "execution_count": 28,
      "id": "7b5a8885",
      "metadata": {},
      "outputs": [
        {
          "data": {
            "text/html": [
              "\n",
              "<style>\n",
              "    /* Turns off some styling */\n",
              "    progress {\n",
              "        /* gets rid of default border in Firefox and Opera. */\n",
              "        border: none;\n",
              "        /* Needs to be in here for Safari polyfill so background images work as expected. */\n",
              "        background-size: auto;\n",
              "    }\n",
              "    progress:not([value]), progress:not([value])::-webkit-progress-bar {\n",
              "        background: repeating-linear-gradient(45deg, #7e7e7e, #7e7e7e 10px, #5c5c5c 10px, #5c5c5c 20px);\n",
              "    }\n",
              "    .progress-bar-interrupted, .progress-bar-interrupted::-webkit-progress-bar {\n",
              "        background: #F44336;\n",
              "    }\n",
              "</style>\n"
            ],
            "text/plain": [
              "<IPython.core.display.HTML object>"
            ]
          },
          "metadata": {},
          "output_type": "display_data"
        },
        {
          "data": {
            "text/html": [
              "<table border=\"1\" class=\"dataframe\">\n",
              "  <thead>\n",
              "    <tr style=\"text-align: left;\">\n",
              "      <th>epoch</th>\n",
              "      <th>train_loss</th>\n",
              "      <th>valid_loss</th>\n",
              "      <th>_rmse</th>\n",
              "      <th>time</th>\n",
              "    </tr>\n",
              "  </thead>\n",
              "  <tbody>\n",
              "    <tr>\n",
              "      <td>0</td>\n",
              "      <td>37292347392.000000</td>\n",
              "      <td>39653818368.000000</td>\n",
              "      <td>199132.656250</td>\n",
              "      <td>00:00</td>\n",
              "    </tr>\n",
              "    <tr>\n",
              "      <td>1</td>\n",
              "      <td>38236938240.000000</td>\n",
              "      <td>39653371904.000000</td>\n",
              "      <td>199131.546875</td>\n",
              "      <td>00:00</td>\n",
              "    </tr>\n",
              "    <tr>\n",
              "      <td>2</td>\n",
              "      <td>37949476864.000000</td>\n",
              "      <td>39652950016.000000</td>\n",
              "      <td>199130.484375</td>\n",
              "      <td>00:00</td>\n",
              "    </tr>\n",
              "    <tr>\n",
              "      <td>3</td>\n",
              "      <td>38626471936.000000</td>\n",
              "      <td>39652921344.000000</td>\n",
              "      <td>199130.421875</td>\n",
              "      <td>00:00</td>\n",
              "    </tr>\n",
              "    <tr>\n",
              "      <td>4</td>\n",
              "      <td>38821421056.000000</td>\n",
              "      <td>39652786176.000000</td>\n",
              "      <td>199130.078125</td>\n",
              "      <td>00:00</td>\n",
              "    </tr>\n",
              "  </tbody>\n",
              "</table>"
            ],
            "text/plain": [
              "<IPython.core.display.HTML object>"
            ]
          },
          "metadata": {},
          "output_type": "display_data"
        }
      ],
      "source": [
        "# 5. Create DataLoaders and model\n",
        "dls = to.dataloaders(bs=64)\n",
        "learn = tabular_learner(dls, metrics=rmse)\n",
        "learn.fit_one_cycle(5)"
      ]
    },
    {
      "cell_type": "code",
      "execution_count": null,
      "id": "2e941179",
      "metadata": {},
      "outputs": [],
      "source": [
        "# 6. Make test predictions & format submission\n",
        "# Get test set dataloader\n",
        "test_dl = dls.test_dl(to.items.loc[test_idx])\n",
        "test_preds, _ = learn.get_preds(dl=test_dl)\n",
        "\n",
        "# Build submission DataFrame\n",
        "submission = pd.DataFrame(\n",
        "    {\"Id\": to.items.loc[test_idx, \"Id\"].values, \"SalePrice\": test_preds.numpy().squeeze()}\n",
        ")\n",
        "\n",
        "# Save to CSV\n",
        "submission.to_csv(\"submission.csv\", index=False)\n",
        "print(\"Submission saved! Shape:\", submission.shape)"
      ]
    },
    {
      "cell_type": "code",
      "execution_count": null,
      "id": "a69d060c",
      "metadata": {},
      "outputs": [],
      "source": [
        "# 7. Troubleshooting cell: Check for shape and ID mismatches\n",
        "print(\"Test predictions shape:\", test_preds.shape)\n",
        "print(\"Test index shape:\", len(test_idx))\n",
        "print(\"Submission shape:\", submission.shape)\n",
        "print(\"First few IDs:\", submission[\"Id\"].head())"
      ]
    },
    {
      "cell_type": "code",
      "execution_count": null,
      "id": "b6f8326a",
      "metadata": {},
      "outputs": [],
      "source": []
    }
  ],
  "metadata": {
    "kernelspec": {
      "display_name": "venv",
      "language": "python",
      "name": "python3"
    },
    "language_info": {
      "codemirror_mode": {
        "name": "ipython",
        "version": 3
      },
      "file_extension": ".py",
      "mimetype": "text/x-python",
      "name": "python",
      "nbconvert_exporter": "python",
      "pygments_lexer": "ipython3",
      "version": "3.12.10"
    }
  },
  "nbformat": 4,
  "nbformat_minor": 5
}
